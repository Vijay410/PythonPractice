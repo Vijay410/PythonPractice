{
 "cells": [
  {
   "cell_type": "markdown",
   "metadata": {},
   "source": [
    "# Python Built In Data Structures\n",
    "\n",
    "1 . Python has several data struture that help in efficient data storage and manipulation. Lets list below:\n",
    "\n",
    "        1. LIST -------- []\n",
    "        2. TUPLE --------- ()\n",
    "        3. DICTIONARY ------- {k:v}\n",
    "        4. SET ------------ {}\n",
    "        5. STRING ----------- \"\"\n",
    "\n"
   ]
  },
  {
   "cell_type": "markdown",
   "metadata": {},
   "source": [
    "### Understanding Python List Data Type in Depth\n",
    "\n",
    "1. A list is a built-in, mutable, ordered, and indexed collection in Python that can hold multiple types of data.\n",
    "\n",
    "2. Lists are commonly used and highly useful data structures in daily development for accessing, retrieving, storing, and manipulating data.\n"
   ]
  },
  {
   "cell_type": "markdown",
   "metadata": {},
   "source": [
    "#### a). Creating List\n"
   ]
  },
  {
   "cell_type": "code",
   "execution_count": 1,
   "metadata": {},
   "outputs": [
    {
     "name": "stdout",
     "output_type": "stream",
     "text": [
      "[]\n"
     ]
    }
   ],
   "source": [
    "# Creating List\n",
    "#create list using []\n",
    "my_list = [] # empty list\n",
    "print(my_list)\n"
   ]
  },
  {
   "cell_type": "markdown",
   "metadata": {},
   "source": [
    "#### b) List with Elements"
   ]
  },
  {
   "cell_type": "code",
   "execution_count": null,
   "metadata": {},
   "outputs": [],
   "source": [
    "numbers = [1, 2, 3, 4, 5]\n",
    "mixed = [1, \"hello\", 3.14, True] #List can have multiple data types\n",
    "nested = [[1, 2, 3], [4, 5, 6]]  # List inside a list\n"
   ]
  },
  {
   "cell_type": "markdown",
   "metadata": {},
   "source": [
    "### 2. Accessing Elements\n",
    "\n",
    "            1. Python lists are implemented as dynamic arrays.\n",
    "\n",
    "            2.Since lists store elements in contiguous memory locations, accessing an element using its index (e.g., list[i]) takes constant time.\n",
    "\n",
    "            3.The index allows direct memory access without iteration, making it an O(1) operation."
   ]
  },
  {
   "cell_type": "code",
   "execution_count": null,
   "metadata": {},
   "outputs": [],
   "source": [
    "#create list and access the each elements from list using indexing method\n",
    "my_list = [10, 20, 30, 40, 50]\n",
    "print(my_list[0])  # 10\n",
    "print(my_list[3])  # 40\n",
    "print(my_list[-1])  # 50\n",
    "print(my_list[-3])  # 30"
   ]
  },
  {
   "cell_type": "markdown",
   "metadata": {},
   "source": [
    "#### 3. Access the elements using Slicing\n",
    "\n",
    "    1. Slicing is one of the technique to acess the elements from list.\n",
    "    2. When we slice the list we define start and end position to access the each elemenst.\n",
    "    3. Syntax = list[start:end] \n"
   ]
  },
  {
   "cell_type": "code",
   "execution_count": 3,
   "metadata": {},
   "outputs": [
    {
     "name": "stdout",
     "output_type": "stream",
     "text": [
      "[20, 30, 40]\n",
      "[10, 20, 30]\n",
      "[10, 30, 50]\n",
      "[50, 40, 30, 20, 10]\n"
     ]
    }
   ],
   "source": [
    "\n",
    "my_list = [10, 20, 30, 40, 50]\n",
    "\n",
    "print(my_list[1:4])  # [20, 30, 40]\n",
    "print(my_list[:3])   # [10, 20, 30]\n",
    "print(my_list[::2])  # [10, 30, 50]  (every second element)\n",
    "print(my_list[::-1]) # [50, 40, 30, 20, 10]  (reversed list)"
   ]
  },
  {
   "cell_type": "markdown",
   "metadata": {},
   "source": [
    "#### Modifying List Elements in List\n",
    "\n",
    "\n"
   ]
  },
  {
   "cell_type": "code",
   "execution_count": null,
   "metadata": {},
   "outputs": [
    {
     "data": {
      "text/plain": [
       "[10, 5, 30, 40, 50]"
      ]
     },
     "execution_count": 5,
     "metadata": {},
     "output_type": "execute_result"
    }
   ],
   "source": [
    "my_list = [10, 20, 30, 40, 50]\n",
    "\n",
    "#change elemenst\n",
    "my_list[1] = 5\n",
    "my_list\n",
    "\n",
    "#Here in result we can position 1 replaced by 5 from 20"
   ]
  },
  {
   "cell_type": "markdown",
   "metadata": {},
   "source": [
    "##  Adding Elements\n",
    "1 . append(): Adds to the end\n",
    "\n",
    "2. insert(index, value): Adds at a specific position\n",
    "\n",
    "3. extend(iterable): Adds multiple elements"
   ]
  },
  {
   "cell_type": "code",
   "execution_count": null,
   "metadata": {},
   "outputs": [
    {
     "name": "stdout",
     "output_type": "stream",
     "text": [
      "[10]\n",
      "[10, 4]\n",
      "[10, 4, 3]\n",
      "[50, 10, 4, 3]\n",
      "[50, 10, 4, 3, 100, 200, 'vijay', 2.5, (2+5j)]\n"
     ]
    }
   ],
   "source": [
    "#create empty list\n",
    "my_list = []\n",
    "\n",
    "#Append operation\n",
    "my_list.append(10)\n",
    "print(my_list) #[10]\n",
    "my_list.append(4)\n",
    "print(my_list) # [10,4] #Append will add the element at the end\n",
    "\n",
    "#Insert operation\n",
    "my_list.insert(5,3)\n",
    "print(my_list) #[10, 4, 3]\n",
    "my_list.insert(0,50) #[50, 10, 4, 3]\n",
    "print(my_list)\n",
    "\n",
    "#extend\n",
    "my_list.extend([100,200, \"vijay\",2.5,2+5j])\n",
    "print(my_list) # [50, 10, 4, 3, 100, 200, 'vijay', 2.5, (2+5j)]  we can se we can store multiple data type \n",
    "\n"
   ]
  },
  {
   "cell_type": "markdown",
   "metadata": {},
   "source": [
    "#### Removing Elements\n",
    "1. pop(index): Removes by index (default: last)\n",
    "\n",
    "2. remove(value): Removes first occurrence of a value\n",
    "\n",
    "3. del list[index]: Deletes by index\n",
    "\n",
    "4. clear(): Removes all elements"
   ]
  },
  {
   "cell_type": "code",
   "execution_count": 20,
   "metadata": {},
   "outputs": [
    {
     "name": "stdout",
     "output_type": "stream",
     "text": [
      "[10, 20, 40, 50, 200]\n",
      "[10, 20, 40, 50]\n",
      "[20, 40, 50]\n",
      "[]\n"
     ]
    }
   ],
   "source": [
    "my_list = [10, 20, 30, 40, 50, 200]\n",
    "\n",
    "my_list.pop(2)   # Removes element at index 2\n",
    "print(my_list)\n",
    "my_list.remove(200)  # Removes first occurrence of 200\n",
    "print(my_list)\n",
    "del my_list[0]   # Deletes first element\n",
    "print(my_list)\n",
    "my_list.clear()  # Empties the list\n",
    "print(my_list)\n"
   ]
  },
  {
   "cell_type": "markdown",
   "metadata": {},
   "source": [
    "#### Concatenation (+)"
   ]
  },
  {
   "cell_type": "code",
   "execution_count": 21,
   "metadata": {},
   "outputs": [
    {
     "name": "stdout",
     "output_type": "stream",
     "text": [
      "[1, 2, 3, 4, 5]\n"
     ]
    }
   ],
   "source": [
    "list1 = [1, 2, 3]\n",
    "list2 = [4, 5]\n",
    "result = list1 + list2  # [1, 2, 3, 4, 5]\n",
    "print(result)"
   ]
  },
  {
   "cell_type": "code",
   "execution_count": 23,
   "metadata": {},
   "outputs": [
    {
     "name": "stdout",
     "output_type": "stream",
     "text": [
      "[1, 2, 3, 'vijay', 4, 5]\n"
     ]
    }
   ],
   "source": [
    "list1 = [1, 2, 3, 'vijay']\n",
    "list2 = [4, 5]\n",
    "result = list1 + list2  # [1, 2, 3, 4, 5]\n",
    "print(result)\n"
   ]
  },
  {
   "cell_type": "markdown",
   "metadata": {},
   "source": [
    "List Comprehension\n",
    "\n",
    "1. This is one of the efficient way of creating a list in python. \n"
   ]
  },
  {
   "cell_type": "code",
   "execution_count": 26,
   "metadata": {},
   "outputs": [
    {
     "data": {
      "text/plain": [
       "[2, 4, 6, 10, 12, 14]"
      ]
     },
     "execution_count": 26,
     "metadata": {},
     "output_type": "execute_result"
    }
   ],
   "source": [
    "my_list = [1,2,3,5,6,7]\n",
    "new_list = [x*2 for x in my_list] # multiplyong each item in list\n",
    "new_list"
   ]
  },
  {
   "cell_type": "code",
   "execution_count": 27,
   "metadata": {},
   "outputs": [
    {
     "data": {
      "text/plain": [
       "[0, 1, 4, 9, 16]"
      ]
     },
     "execution_count": 27,
     "metadata": {},
     "output_type": "execute_result"
    }
   ],
   "source": [
    "new_list = [x**2 for x in range(5)]\n",
    "new_list"
   ]
  },
  {
   "cell_type": "markdown",
   "metadata": {},
   "source": [
    "### 5. Sorting and Reversing"
   ]
  },
  {
   "cell_type": "code",
   "execution_count": 29,
   "metadata": {},
   "outputs": [
    {
     "data": {
      "text/plain": [
       "[4, 3, 2, 1]"
      ]
     },
     "execution_count": 29,
     "metadata": {},
     "output_type": "execute_result"
    }
   ],
   "source": [
    "nums = [4, 1, 3, 2]\n",
    "nums.sort()  # [1, 2, 3, 4]\n",
    "nums.sort(reverse=True)  # [4, 3, 2, 1]\n",
    "nums\n"
   ]
  },
  {
   "cell_type": "code",
   "execution_count": 31,
   "metadata": {},
   "outputs": [
    {
     "data": {
      "text/plain": [
       "[1, 2, 3, 4]"
      ]
     },
     "execution_count": 31,
     "metadata": {},
     "output_type": "execute_result"
    }
   ],
   "source": [
    "sorted(nums)  # Original list remains unchanged\n"
   ]
  }
 ],
 "metadata": {
  "kernelspec": {
   "display_name": "Python 3",
   "language": "python",
   "name": "python3"
  },
  "language_info": {
   "codemirror_mode": {
    "name": "ipython",
    "version": 3
   },
   "file_extension": ".py",
   "mimetype": "text/x-python",
   "name": "python",
   "nbconvert_exporter": "python",
   "pygments_lexer": "ipython3",
   "version": "3.12.1"
  }
 },
 "nbformat": 4,
 "nbformat_minor": 2
}
