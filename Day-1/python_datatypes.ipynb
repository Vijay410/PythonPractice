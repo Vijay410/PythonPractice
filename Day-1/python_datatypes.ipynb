{
 "cells": [
  {
   "cell_type": "markdown",
   "metadata": {},
   "source": [
    "### Python Data Types: Basics and Fundamentals\n",
    "\n",
    "Python has several built-in data types that allow you to store and manipulate different kinds of data. These types can be broadly classified into the following categories:\n"
   ]
  },
  {
   "cell_type": "markdown",
   "metadata": {},
   "source": [
    "# 1. Numeric Types\n",
    "\n",
    " 1. Used to reprsenting  the number."
   ]
  },
  {
   "cell_type": "markdown",
   "metadata": {},
   "source": []
  },
  {
   "cell_type": "code",
   "execution_count": 1,
   "metadata": {},
   "outputs": [
    {
     "name": "stdout",
     "output_type": "stream",
     "text": [
      "<class 'int'> <class 'float'> <class 'complex'>\n",
      "<class 'bool'>\n",
      "<class 'str'> <class 'list'> <class 'tuple'> <class 'range'>\n",
      "<class 'set'> <class 'frozenset'>\n",
      "<class 'dict'>\n",
      "<class 'NoneType'>\n",
      "<class 'int'>\n"
     ]
    }
   ],
   "source": [
    "# Python Data Types - Summary\n",
    "\n",
    "# 1. Numeric Types\n",
    "x = 10  # Integer (int)\n",
    "y = -5.5  # Floating-Point (float)\n",
    "z = 2 + 3j  # Complex Number (complex)\n",
    "\n",
    "print(type(x), type(y), type(z))  # <class 'int'> <class 'float'> <class 'complex'>\n",
    "\n",
    "# 2. Boolean Type\n",
    "is_active = True  # Boolean (bool)\n",
    "is_admin = False\n",
    "print(type(is_active))  # <class 'bool'>\n",
    "\n",
    "# 3. Sequence Types\n",
    "name = \"Python\"  # String (str)\n",
    "numbers = [1, 2, 3, 4, 5]  # List (mutable)\n",
    "coordinates = (10, 20)  # Tuple (immutable)\n",
    "r = range(1, 6)  # Range\n",
    "\n",
    "print(type(name), type(numbers), type(coordinates), type(r))\n",
    "\n",
    "# 4. Set Types\n",
    "unique_numbers = {1, 2, 3, 4, 5}  # Set (unordered, unique values)\n",
    "fs = frozenset([1, 2, 3])  # Frozen Set (immutable set)\n",
    "\n",
    "print(type(unique_numbers), type(fs))\n",
    "\n",
    "# 5. Dictionary Type\n",
    "student = {\"name\": \"Alice\", \"age\": 25, \"city\": \"New York\"}  # Dict (key-value pairs)\n",
    "print(type(student))\n",
    "\n",
    "# 6. None Type\n",
    "result = None  # Represents absence of a value\n",
    "print(type(result))\n",
    "\n",
    "# Type Conversion\n",
    "num_str = \"123\"\n",
    "num_int = int(num_str)  # Convert string to integer\n",
    "print(type(num_int))  # <class 'int'>\n"
   ]
  }
 ],
 "metadata": {
  "kernelspec": {
   "display_name": "Python 3 (ipykernel)",
   "language": "python",
   "name": "python3"
  }
 },
 "nbformat": 4,
 "nbformat_minor": 2
}
