{
 "cells": [
  {
   "cell_type": "markdown",
   "metadata": {},
   "source": [
    "### ✅Python Variables\n",
    "\n",
    "1.  Variables are fundamental concepts in Python used to store data.\n",
    "\n",
    "2.  A variable is created when a value is assigned to it.\n",
    "3.  When we create a variable, there is no need to explicitly allocate memory; Python automatically assigns space.\n",
    "\n"
   ]
  },
  {
   "cell_type": "code",
   "execution_count": 7,
   "metadata": {},
   "outputs": [],
   "source": [
    "#how to create variable\n",
    "a = 200"
   ]
  },
  {
   "cell_type": "markdown",
   "metadata": {},
   "source": [
    "### ✅How to declare and Assign the variable\n",
    "\n"
   ]
  },
  {
   "cell_type": "code",
   "execution_count": 10,
   "metadata": {},
   "outputs": [
    {
     "name": "stdout",
     "output_type": "stream",
     "text": [
      "My name is vijay\n",
      "My Hight is 5.1\n",
      "My age is 20\n",
      "Are you male True\n"
     ]
    }
   ],
   "source": [
    "age = 20 #int\n",
    "hight = 5.10 # float\n",
    "is_male = True # bool\n",
    "name = \"vijay\"\n",
    "\n",
    "print(f\"My name is {name}\")\n",
    "print(f\"My Hight is {hight}\")\n",
    "print(f\"My age is {age}\")\n",
    "print(f\"Are you male {is_male}\")"
   ]
  },
  {
   "cell_type": "markdown",
   "metadata": {},
   "source": [
    "### ✅Couple of important things to remember before create or assign the variable\n",
    "\n",
    "1. Naming convention\n",
    "2. Variable name should descriptive\n",
    "3. Variable names must start with a letter (a-z, A-Z) or an underscore (_) but cannot start with a number.\n",
    "4. Python is dynamically typed, meaning you don’t need to declare the data type of a variable explicitly.\n",
    "Variables in Python follow case sensitivity, so Name and name are different.\n",
    "5. Use meaningful variable names to improve code readability.\n",
    "5. The type() function can be used to check the data type of a variable."
   ]
  },
  {
   "cell_type": "code",
   "execution_count": 13,
   "metadata": {},
   "outputs": [],
   "source": [
    "# ✅ # Valid Variable Names:\n",
    "my_variable = 10        # Underscore is allowed\n",
    "myVariable = \"Hello\"    # Camel case is allowed\n",
    "_myVariable = 20        # Underscore at the beginning is allowed\n",
    "myVariable123 = 30      # Numbers can be used, but not at the beginning\n",
    "my_variable_name = 40   # Snake case is allowed\n",
    "MYVARIABLE = 50         # Uppercase is allowed (usually for constants)\n"
   ]
  },
  {
   "cell_type": "code",
   "execution_count": 14,
   "metadata": {},
   "outputs": [
    {
     "ename": "SyntaxError",
     "evalue": "invalid decimal literal (1890208946.py, line 2)",
     "output_type": "error",
     "traceback": [
      "  \u001b[36mCell\u001b[39m\u001b[36m \u001b[39m\u001b[32mIn[14]\u001b[39m\u001b[32m, line 2\u001b[39m\n\u001b[31m    \u001b[39m\u001b[31m2variable = 10          # ❌ Cannot start with a number\u001b[39m\n    ^\n\u001b[31mSyntaxError\u001b[39m\u001b[31m:\u001b[39m invalid decimal literal\n"
     ]
    }
   ],
   "source": [
    "# ❌ Invalid Variable Names & Errors:\n",
    "2variable = 10          # ❌ Cannot start with a number\n",
    "my-variable = 20        # ❌ Hyphens (-) are not allowed (use underscores instead)\n",
    "my variable = 30        # ❌ Spaces are not allowed in variable names\n",
    "for = 40                # ❌ \"for\" is a reserved keyword in Python\n",
    "if = 50                 # ❌ \"if\" is also a reserved keyword\n",
    "my@var = 60             # ❌ Special characters like @, #, $, % are not allowed\n"
   ]
  },
  {
   "cell_type": "markdown",
   "metadata": {},
   "source": [
    "##  ✅ Python variables types\n",
    "\n",
    "1. Python is dynamically types language which means when u declare the variable python will automaticaly detect the type of the vraible no need to define it expisitly.\n",
    "\n",
    "\n"
   ]
  },
  {
   "cell_type": "markdown",
   "metadata": {},
   "source": [
    "# 🔹 1. Numeric Types\n",
    "\n",
    "### Python has three numeric types:\n",
    "\n",
    "1. Integer (int) – Whole numbers\n",
    "\n",
    "2. Floating-point (float) – Decimal numbers\n",
    "\n",
    "3. Complex (complex) – Numbers with a real and imaginary part\n"
   ]
  },
  {
   "cell_type": "code",
   "execution_count": null,
   "metadata": {},
   "outputs": [],
   "source": [
    "x = 10        # Integer\n",
    "y = 3.14      # Float\n",
    "z = 2 + 3j    # Complex number\n",
    "\n",
    "print(type(x))  # <class 'int'>\n",
    "print(type(y))  # <class 'float'>\n",
    "print(type(z))  # <class 'complex'>\n"
   ]
  },
  {
   "cell_type": "markdown",
   "metadata": {},
   "source": [
    "# 🔹 2. String (str)\n",
    "1. A sequence of characters enclosed in single (') or double (\") quotes."
   ]
  },
  {
   "cell_type": "code",
   "execution_count": 15,
   "metadata": {},
   "outputs": [
    {
     "name": "stdout",
     "output_type": "stream",
     "text": [
      "<class 'str'>\n",
      "<class 'str'>\n"
     ]
    }
   ],
   "source": [
    "name = \"Python\"\n",
    "message = 'Hello, World!'\n",
    "\n",
    "print(type(name))  # <class 'str'>\n",
    "print(type(message))  # <class 'str'>\n"
   ]
  },
  {
   "cell_type": "markdown",
   "metadata": {},
   "source": [
    "# 🔹 3. Boolean (bool)\n",
    "1. A variable that can only have True or False values."
   ]
  },
  {
   "cell_type": "code",
   "execution_count": 16,
   "metadata": {},
   "outputs": [
    {
     "name": "stdout",
     "output_type": "stream",
     "text": [
      "<class 'bool'>\n"
     ]
    }
   ],
   "source": [
    "is_active = True\n",
    "is_deleted = False\n",
    "\n",
    "print(type(is_active))  # <class 'bool'>\n"
   ]
  },
  {
   "cell_type": "markdown",
   "metadata": {},
   "source": [
    "# 🔹 4. Sequence Types\n",
    "1. These store multiple items in an ordered way."
   ]
  },
  {
   "cell_type": "code",
   "execution_count": 17,
   "metadata": {},
   "outputs": [
    {
     "name": "stdout",
     "output_type": "stream",
     "text": [
      "<class 'list'>\n"
     ]
    }
   ],
   "source": [
    "# a) List (list) – Ordered, mutable collection\n",
    "fruits = [\"apple\", \"banana\", \"cherry\"]\n",
    "print(type(fruits))  # <class 'list'>\n"
   ]
  },
  {
   "cell_type": "code",
   "execution_count": 18,
   "metadata": {},
   "outputs": [
    {
     "name": "stdout",
     "output_type": "stream",
     "text": [
      "<class 'tuple'>\n"
     ]
    }
   ],
   "source": [
    "# b) Tuple (tuple) – Ordered, immutable collection\n",
    "coordinates = (10.5, 20.3)\n",
    "print(type(coordinates))  # <class 'tuple'>\n"
   ]
  },
  {
   "cell_type": "code",
   "execution_count": 19,
   "metadata": {},
   "outputs": [
    {
     "name": "stdout",
     "output_type": "stream",
     "text": [
      "[0, 1, 2, 3, 4]\n",
      "<class 'range'>\n"
     ]
    }
   ],
   "source": [
    "# c) Range (range) – Sequence of numbers\n",
    "numbers = range(5)  # Generates numbers from 0 to 4\n",
    "print(list(numbers))  # [0, 1, 2, 3, 4]\n",
    "print(type(numbers))  # <class 'range'>\n"
   ]
  },
  {
   "cell_type": "markdown",
   "metadata": {},
   "source": [
    "## 🔹 5. Set and Dictionary Types\n"
   ]
  },
  {
   "cell_type": "code",
   "execution_count": 21,
   "metadata": {},
   "outputs": [
    {
     "name": "stdout",
     "output_type": "stream",
     "text": [
      "<class 'set'>\n",
      "<class 'dict'>\n"
     ]
    }
   ],
   "source": [
    "# a) Set (set) – Unordered, unique elements\n",
    "unique_numbers = {1, 2, 3, 4, 5}\n",
    "print(type(unique_numbers))  # <class 'set'>\n",
    "\n",
    "#b) Dictionary (dict) – Key-value pairs\n",
    "student = {\"name\": \"Alice\", \"age\": 25, \"grade\": \"A\"}\n",
    "print(type(student))  # <class 'dict'>\n",
    "\n"
   ]
  },
  {
   "cell_type": "markdown",
   "metadata": {},
   "source": [
    "# 🔹 6. NoneType (None)\n",
    "1. Represents the absence of a value."
   ]
  },
  {
   "cell_type": "code",
   "execution_count": 22,
   "metadata": {},
   "outputs": [
    {
     "name": "stdout",
     "output_type": "stream",
     "text": [
      "<class 'NoneType'>\n"
     ]
    }
   ],
   "source": [
    "result = None\n",
    "print(type(result))  # <class 'NoneType'>\n"
   ]
  },
  {
   "cell_type": "markdown",
   "metadata": {},
   "source": [
    "## Key Points to Remember\n",
    "1. ✔️.  Python is dynamically typed (you don’t need to declare variable types explicitly).\n",
    "2. ✔️.  Use the type() function to check a variable’s data type.\n",
    "3. ✔️.  Strings, lists, and tuples support indexing and slicing.\n",
    "4. ✔️. Sets and dictionaries are unordered collections."
   ]
  }
 ],
 "metadata": {
  "kernelspec": {
   "display_name": "Python 3 (ipykernel)",
   "language": "python",
   "name": "python3"
  },
  "language_info": {
   "codemirror_mode": {
    "name": "ipython",
    "version": 3
   },
   "file_extension": ".py",
   "mimetype": "text/x-python",
   "name": "python",
   "nbconvert_exporter": "python",
   "pygments_lexer": "ipython3",
   "version": "3.12.1"
  }
 },
 "nbformat": 4,
 "nbformat_minor": 2
}
