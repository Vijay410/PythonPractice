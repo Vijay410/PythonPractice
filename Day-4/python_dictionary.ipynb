{
 "cells": [
  {
   "cell_type": "markdown",
   "id": "67f87b8a",
   "metadata": {},
   "source": [
    "##### PYTHON DICTIONARY\n",
    "\n",
    "Python dictionaries are ordered collections of items consisting of key-value pairs. They allow only unique keys, can store multiple data types, and the keys themselves must be immutable"
   ]
  },
  {
   "cell_type": "code",
   "execution_count": 1,
   "id": "b8f0e14c",
   "metadata": {},
   "outputs": [
    {
     "name": "stdout",
     "output_type": "stream",
     "text": [
      "<class 'dict'>\n"
     ]
    }
   ],
   "source": [
    "# Create a dictionary\n",
    "my_dict = {}\n",
    "print(type(my_dict))"
   ]
  },
  {
   "cell_type": "code",
   "execution_count": null,
   "id": "0ba3b8fe",
   "metadata": {},
   "outputs": [
    {
     "name": "stdout",
     "output_type": "stream",
     "text": [
      "{}\n",
      "<class 'dict'>\n"
     ]
    }
   ],
   "source": [
    "#Create  empty dictionary using a dict method\n",
    "my_dict = dict()\n",
    "print(my_dict)\n",
    "print(type(my_dict))"
   ]
  },
  {
   "cell_type": "code",
   "execution_count": null,
   "id": "0316493d",
   "metadata": {},
   "outputs": [
    {
     "name": "stdout",
     "output_type": "stream",
     "text": [
      "{'name': 'Alex', 'age': 30, 'city': 'Norway'}\n"
     ]
    }
   ],
   "source": [
    "#Create dictionary with key-value pair\n",
    "my_dict = {\"name\": \"Alex\", \"age\": 30, \"city\": \"Norway\"}\n",
    "print(my_dict)"
   ]
  },
  {
   "cell_type": "code",
   "execution_count": null,
   "id": "c0c8b9cb",
   "metadata": {},
   "outputs": [
    {
     "name": "stdout",
     "output_type": "stream",
     "text": [
      "{'name': 'cary', 'age': 30, 'city': 'Norway'}\n"
     ]
    }
   ],
   "source": [
    "#Dictionary can contain only unique keys\n",
    "\n",
    "my_dict = {\"name\": \"Alex\", \"age\": 30, \"city\": \"Norway\", \"name\":\"cary\"}\n",
    "print(my_dict)\n",
    "\n",
    "#When we have duplicate key, dictionary will replace the value"
   ]
  },
  {
   "cell_type": "code",
   "execution_count": null,
   "id": "5980864b",
   "metadata": {},
   "outputs": [
    {
     "name": "stdout",
     "output_type": "stream",
     "text": [
      "cary\n",
      "cary\n"
     ]
    }
   ],
   "source": [
    "#Accessing the elements from dictinary\n",
    "my_dict = {\"name\": \"Alex\", \"age\": 30, \"city\": \"Norway\", \"name\":\"cary\"}\n",
    "print(my_dict.get('name')) #Replace latest value for dupliacte key, get will retrun None if the key does not ecist in dictoinary\n",
    "print(my_dict['name']) #return the value if the key exist\n",
    "\n"
   ]
  },
  {
   "cell_type": "code",
   "execution_count": null,
   "id": "2f8d2f7d",
   "metadata": {},
   "outputs": [
    {
     "ename": "KeyError",
     "evalue": "'name1'",
     "output_type": "error",
     "traceback": [
      "\u001b[31m---------------------------------------------------------------------------\u001b[39m",
      "\u001b[31mKeyError\u001b[39m                                  Traceback (most recent call last)",
      "\u001b[36mCell\u001b[39m\u001b[36m \u001b[39m\u001b[32mIn[11]\u001b[39m\u001b[32m, line 1\u001b[39m\n\u001b[32m----> \u001b[39m\u001b[32m1\u001b[39m \u001b[38;5;28mprint\u001b[39m(\u001b[43mmy_dict\u001b[49m\u001b[43m[\u001b[49m\u001b[33;43m'\u001b[39;49m\u001b[33;43mname1\u001b[39;49m\u001b[33;43m'\u001b[39;49m\u001b[43m]\u001b[49m) \u001b[38;5;66;03m# This will give if the key is not exist \u001b[39;00m\n",
      "\u001b[31mKeyError\u001b[39m: 'name1'"
     ]
    }
   ],
   "source": [
    "print(my_dict['name1']) # This will give error if the key is not exist \n"
   ]
  },
  {
   "cell_type": "code",
   "execution_count": 13,
   "id": "1ade929e",
   "metadata": {},
   "outputs": [
    {
     "name": "stdout",
     "output_type": "stream",
     "text": [
      "None\n"
     ]
    }
   ],
   "source": [
    "print(my_dict.get('name1')) # This will return None if the key dies not exist in dictionary\n",
    "\n"
   ]
  },
  {
   "cell_type": "code",
   "execution_count": null,
   "id": "0a68826a",
   "metadata": {},
   "outputs": [
    {
     "name": "stdout",
     "output_type": "stream",
     "text": [
      "{'name': 'Alex cary', 'age': 30, 'city': 'Oslo'}\n",
      "{'name': 'Alex cary', 'age': 30, 'city': 'Oslo', 'country': 'Norway'}\n"
     ]
    }
   ],
   "source": [
    "#Modify the elemets in the dictionary\n",
    "my_dict = {\"name\": \"Alex\", \"age\": 30, \"city\": \"Oslo\"}\n",
    "\n",
    "#Modify the name in dictionary\n",
    "my_dict['name'] = 'Alex cary' # This will update the key if exist else it will add key\n",
    "print(my_dict)\n",
    "\n",
    "#Update the dictionary , Add new key\n",
    "my_dict.update({\"country\": \"Norway\"})\n",
    "print(my_dict)\n",
    "\n"
   ]
  },
  {
   "cell_type": "code",
   "execution_count": 25,
   "id": "e4f00e0d",
   "metadata": {},
   "outputs": [
    {
     "name": "stdout",
     "output_type": "stream",
     "text": [
      "dict_keys(['name', 'age', 'city']) dict_values(['Alex', 30, 'Oslo'])\n",
      "dict_items([('name', 'Alex'), ('age', 30), ('city', 'Oslo')])\n"
     ]
    }
   ],
   "source": [
    "#Common methods in dictinary\n",
    "my_dict = {\"name\": \"Alex\", \"age\": 30, \"city\": \"Oslo\"}\n",
    "keys = my_dict.keys()\n",
    "values = my_dict.values()\n",
    "print(keys, values) #Use keys and values method to get all keys and values\n",
    "\n",
    "print(my_dict.items()) # this will give tuple of list"
   ]
  },
  {
   "cell_type": "markdown",
   "id": "4bf7dcd7",
   "metadata": {},
   "source": [
    "# Shallow Copy"
   ]
  },
  {
   "cell_type": "code",
   "execution_count": 26,
   "id": "670eaf99",
   "metadata": {},
   "outputs": [
    {
     "name": "stdout",
     "output_type": "stream",
     "text": [
      "{'name': 'Alex', 'age': 30, 'city': 'Oslo'}\n",
      "{'name': 'Alex', 'age': 30, 'city': 'Oslo'}\n"
     ]
    }
   ],
   "source": [
    "my_dict_copy = my_dict\n",
    "print(my_dict)\n",
    "print(my_dict_copy)"
   ]
  },
  {
   "cell_type": "code",
   "execution_count": 32,
   "id": "67a25856",
   "metadata": {},
   "outputs": [
    {
     "name": "stdout",
     "output_type": "stream",
     "text": [
      "{'name': 'Brave', 'age': 30, 'city': 'Oslo'}\n",
      "{'name': 'Brave', 'age': 30, 'city': 'Oslo'}\n",
      "{'name': 'Gen', 'age': 30, 'city': 'Oslo'}\n",
      "{'name': 'Brave', 'age': 30, 'city': 'Oslo'}\n"
     ]
    }
   ],
   "source": [
    "my_dict['name'] = 'Brave'\n",
    "print(my_dict)\n",
    "print(my_dict_copy)\n",
    "\n",
    "#here we can since we have update the my_dict but it is also update the values in copy dict\n",
    "#So to avoid this we can use an shallow dict\n",
    "my_dict_copy = my_dict.copy() #Shallow copy\n",
    "my_dict['name'] = 'Gen'\n",
    "print(my_dict) #It will update the name with Gen\n",
    "print(my_dict_copy) #copy dictionary will be unchanged"
   ]
  },
  {
   "cell_type": "code",
   "execution_count": 33,
   "id": "aaf96b7b",
   "metadata": {},
   "outputs": [
    {
     "name": "stdout",
     "output_type": "stream",
     "text": [
      "name Gen\n",
      "age 30\n",
      "city Oslo\n"
     ]
    }
   ],
   "source": [
    "#Iterate over dictionary\n",
    "for key, value in my_dict.items():\n",
    "    print(key,value)"
   ]
  },
  {
   "cell_type": "code",
   "execution_count": 34,
   "id": "947aa93d",
   "metadata": {},
   "outputs": [
    {
     "name": "stdout",
     "output_type": "stream",
     "text": [
      "name\n",
      "age\n",
      "city\n"
     ]
    }
   ],
   "source": [
    "#Itrate over only keys\n",
    "for key in my_dict.keys():\n",
    "    print(key)"
   ]
  },
  {
   "cell_type": "code",
   "execution_count": 35,
   "id": "de46ecd9",
   "metadata": {},
   "outputs": [
    {
     "name": "stdout",
     "output_type": "stream",
     "text": [
      "Gen\n",
      "30\n",
      "Oslo\n"
     ]
    }
   ],
   "source": [
    "#Itrate over only values\n",
    "for value in my_dict.values():\n",
    "    print(value)"
   ]
  },
  {
   "cell_type": "code",
   "execution_count": 36,
   "id": "556722a2",
   "metadata": {},
   "outputs": [
    {
     "name": "stdout",
     "output_type": "stream",
     "text": [
      "{'student_1': {'name': 'vijay', 'age': 20}, 'student_2': {'name': 'alex', 'age': 21}, 'student_3': {'name': 'cary', 'age': 22}}\n"
     ]
    }
   ],
   "source": [
    "#Nested dictionary\n",
    "students = {\n",
    "    \"student_1\": {\"name\":\"vijay\", \"age\":20},\n",
    "    \"student_2\": {\"name\":\"alex\", \"age\":21},\n",
    "    \"student_3\": {\"name\":\"cary\", \"age\":22}\n",
    "}\n",
    "\n",
    "print(students)"
   ]
  },
  {
   "cell_type": "code",
   "execution_count": 38,
   "id": "f65f937b",
   "metadata": {},
   "outputs": [
    {
     "name": "stdout",
     "output_type": "stream",
     "text": [
      "vijay\n"
     ]
    }
   ],
   "source": [
    "#Access the nested dictionary\n",
    "print(students['student_1']['name'])"
   ]
  },
  {
   "cell_type": "code",
   "execution_count": 40,
   "id": "18be39c0",
   "metadata": {},
   "outputs": [
    {
     "name": "stdout",
     "output_type": "stream",
     "text": [
      "student_1:{'name': 'vijay', 'age': 20}\n",
      "name:vijay\n",
      "age:20\n",
      "student_2:{'name': 'alex', 'age': 21}\n",
      "name:alex\n",
      "age:21\n",
      "student_3:{'name': 'cary', 'age': 22}\n",
      "name:cary\n",
      "age:22\n"
     ]
    }
   ],
   "source": [
    "#Itrate over nested dictionary\n",
    "students = {\n",
    "    \"student_1\": {\"name\":\"vijay\", \"age\":20},\n",
    "    \"student_2\": {\"name\":\"alex\", \"age\":21},\n",
    "    \"student_3\": {\"name\":\"cary\", \"age\":22}\n",
    "}\n",
    "\n",
    "for student_id, student_info in students.items():\n",
    "    print(f\"{student_id}:{student_info}\")\n",
    "    for key, value in student_info.items():\n",
    "        print(f\"{key}:{value}\")\n",
    "\n",
    "\n"
   ]
  },
  {
   "cell_type": "code",
   "execution_count": 44,
   "id": "e06d3505",
   "metadata": {},
   "outputs": [
    {
     "name": "stdout",
     "output_type": "stream",
     "text": [
      "{0: 0, 1: 1, 2: 4, 3: 9, 4: 16}\n",
      "{0: 0, 2: 4, 4: 16, 6: 36, 8: 64}\n",
      "{2: 2, 4: 4, 6: 6}\n"
     ]
    }
   ],
   "source": [
    "#Dictionary comprhension\n",
    "dict_com = {x:x**2 for x in range(5)}\n",
    "print(dict_com)\n",
    "\n",
    "evens = {x:x**2 for x in range(10) if x%2 == 0}\n",
    "print(evens)\n",
    "\n",
    "age = [1,2,3,4,5,6,7]\n",
    "evens = {x:x for x in age if x%2 == 0}\n",
    "print(evens)"
   ]
  },
  {
   "cell_type": "code",
   "execution_count": 48,
   "id": "860add02",
   "metadata": {},
   "outputs": [
    {
     "name": "stdout",
     "output_type": "stream",
     "text": [
      "{'student_1': {'name': 'vijay', 'age': 20}, 'student_2': {'name': 'alex', 'age': 21}, 'student_3': {'name': 'cary', 'age': 22}}\n"
     ]
    }
   ],
   "source": [
    "students = {\n",
    "    \"student_1\": {\"name\":\"vijay\", \"age\":20},\n",
    "    \"student_2\": {\"name\":\"alex\", \"age\":21},\n",
    "    \"student_3\": {\"name\":\"cary\", \"age\":22}\n",
    "}\n",
    "\n",
    "comp = {x:y for x, y in students.items()}\n",
    "print(comp)"
   ]
  },
  {
   "cell_type": "code",
   "execution_count": 50,
   "id": "20a33b18",
   "metadata": {},
   "outputs": [
    {
     "name": "stdout",
     "output_type": "stream",
     "text": [
      "{1: 1, 2: 1, 3: 1, 4: 1, 5: 1, 6: 1, 7: 1, 8: 1}\n"
     ]
    }
   ],
   "source": [
    "#Count frequcney of each element in dict\n",
    "numbers = [1,2,3,4,4,4,5,5,6,6,7,7,8]\n",
    "frequencey = {}\n",
    "for num in numbers:\n",
    "    if num in frequencey:\n",
    "        frequencey[num] += 1\n",
    "    frequencey[num] = 1\n",
    "\n",
    "print(frequencey)\n",
    "\n"
   ]
  },
  {
   "cell_type": "code",
   "execution_count": 53,
   "id": "aaf7c3a7",
   "metadata": {},
   "outputs": [
    {
     "data": {
      "text/plain": [
       "{1: 1, 2: 1, 3: 1, 4: 3, 5: 2, 6: 2, 7: 2, 8: 1}"
      ]
     },
     "execution_count": 53,
     "metadata": {},
     "output_type": "execute_result"
    }
   ],
   "source": [
    "cnt = {num: numbers.count(num) for num in numbers}\n",
    "cnt"
   ]
  }
 ],
 "metadata": {
  "kernelspec": {
   "display_name": "Python 3",
   "language": "python",
   "name": "python3"
  },
  "language_info": {
   "codemirror_mode": {
    "name": "ipython",
    "version": 3
   },
   "file_extension": ".py",
   "mimetype": "text/x-python",
   "name": "python",
   "nbconvert_exporter": "python",
   "pygments_lexer": "ipython3",
   "version": "3.12.1"
  }
 },
 "nbformat": 4,
 "nbformat_minor": 5
}
