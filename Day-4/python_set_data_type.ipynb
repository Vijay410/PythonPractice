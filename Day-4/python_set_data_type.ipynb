{
 "cells": [
  {
   "cell_type": "markdown",
   "id": "d376af87",
   "metadata": {},
   "source": [
    "# Sets\n",
    "\n",
    "Sets are built in data type in python used to store unique value. Sets are unordered and does not contains any duplicates.  Sets are usefull for performa the operations like intersection, union, difference and symtric difference, "
   ]
  },
  {
   "cell_type": "code",
   "execution_count": 3,
   "id": "df996f7a",
   "metadata": {},
   "outputs": [
    {
     "name": "stdout",
     "output_type": "stream",
     "text": [
      "my set: {1, 2, 3, 4, 5, 6, 7, 8}\n",
      "type my set?: <class 'set'>\n"
     ]
    }
   ],
   "source": [
    "#Create set\n",
    "my_set = {1,2,3,4,5,6,6,5,7,7,8,1}\n",
    "print(f\"my set: {my_set}\")\n",
    "print(f\"type my set?: {type(my_set)}\")"
   ]
  },
  {
   "cell_type": "code",
   "execution_count": 4,
   "id": "8b9e3dab",
   "metadata": {},
   "outputs": [
    {
     "name": "stdout",
     "output_type": "stream",
     "text": [
      "set()\n",
      "<class 'set'>\n"
     ]
    }
   ],
   "source": [
    "my_empty_set = set()\n",
    "print(my_empty_set)\n",
    "print(type(my_empty_set))"
   ]
  },
  {
   "cell_type": "code",
   "execution_count": 5,
   "id": "befa2509",
   "metadata": {},
   "outputs": [
    {
     "name": "stdout",
     "output_type": "stream",
     "text": [
      "{1, 2, 3, 4, 5, 8, 9}\n"
     ]
    }
   ],
   "source": [
    "#create set using set method\n",
    "my_unique_set = set([1,2,3,4,5,8,9])\n",
    "print(my_unique_set)"
   ]
  },
  {
   "cell_type": "code",
   "execution_count": null,
   "id": "f4504b99",
   "metadata": {},
   "outputs": [
    {
     "name": "stdout",
     "output_type": "stream",
     "text": [
      "{1, 2, 3, 4, 5, 8, 9, 10}\n"
     ]
    }
   ],
   "source": [
    "#create set using set method\n",
    "my_duplicate_set = set([1,2,3,4,5,8,9,10,10,9])\n",
    "print(my_duplicate_set) #Result will have only unique elements even we defined with duplicate elements"
   ]
  },
  {
   "cell_type": "code",
   "execution_count": 13,
   "id": "19746ebb",
   "metadata": {},
   "outputs": [
    {
     "name": "stdout",
     "output_type": "stream",
     "text": [
      "{1, 2}\n"
     ]
    }
   ],
   "source": [
    "#Basic Set operatin\n",
    "#Add elemets to empty set\n",
    "my_set = set()\n",
    "my_set.add(1)\n",
    "my_set.add(2)\n",
    "print(my_set)"
   ]
  },
  {
   "cell_type": "code",
   "execution_count": 14,
   "id": "786e7c8a",
   "metadata": {},
   "outputs": [],
   "source": [
    "#Remove element\n",
    "my_set.remove(2) # Remove the element which is present\n"
   ]
  },
  {
   "cell_type": "code",
   "execution_count": 15,
   "id": "eb43f7c3",
   "metadata": {},
   "outputs": [
    {
     "ename": "KeyError",
     "evalue": "4",
     "output_type": "error",
     "traceback": [
      "\u001b[31m---------------------------------------------------------------------------\u001b[39m",
      "\u001b[31mKeyError\u001b[39m                                  Traceback (most recent call last)",
      "\u001b[36mCell\u001b[39m\u001b[36m \u001b[39m\u001b[32mIn[15]\u001b[39m\u001b[32m, line 1\u001b[39m\n\u001b[32m----> \u001b[39m\u001b[32m1\u001b[39m \u001b[43mmy_set\u001b[49m\u001b[43m.\u001b[49m\u001b[43mremove\u001b[49m\u001b[43m(\u001b[49m\u001b[32;43m4\u001b[39;49m\u001b[43m)\u001b[49m \u001b[38;5;66;03m#Try to remove element which is not exist\u001b[39;00m\n",
      "\u001b[31mKeyError\u001b[39m: 4"
     ]
    }
   ],
   "source": [
    "my_set.remove(4) #Try to remove element which is not exist\n"
   ]
  },
  {
   "cell_type": "code",
   "execution_count": null,
   "id": "8fe5be0b",
   "metadata": {},
   "outputs": [],
   "source": [
    "#Since we have issue if we remove an element which is not exist. Because in real time there can be use case to perform\n",
    "# Since to avoide this error we ca use discard method\n",
    "my_set.discard(4) #It will not throug the key error"
   ]
  },
  {
   "cell_type": "code",
   "execution_count": 17,
   "id": "29a5c53c",
   "metadata": {},
   "outputs": [],
   "source": [
    "#Clear method in Set\n",
    "my_set.clear()"
   ]
  },
  {
   "cell_type": "code",
   "execution_count": 18,
   "id": "4602d4b2",
   "metadata": {},
   "outputs": [
    {
     "name": "stdout",
     "output_type": "stream",
     "text": [
      "True\n"
     ]
    }
   ],
   "source": [
    "#Set membership test\n",
    "my_set = {1,2,3,4,5,6,7}\n",
    "print(3 in my_set)"
   ]
  },
  {
   "cell_type": "code",
   "execution_count": null,
   "id": "4dc5ce65",
   "metadata": {},
   "outputs": [
    {
     "name": "stdout",
     "output_type": "stream",
     "text": [
      "{1, 2, 3, 4, 5, 6, 7, 8}\n",
      "{4, 5}\n",
      "{4, 5}\n"
     ]
    }
   ],
   "source": [
    "#Mathematical operation\n",
    "my_set1 = {1,2,3,4,5}\n",
    "my_set2 = {4,5,6,7,8}\n",
    "\n",
    "#Perform the set union\n",
    "\n",
    "#Combine the unique elements from both the sets\n",
    "union_set = my_set1.union(my_set2)\n",
    "print(union_set) # it will merge\n",
    "\n",
    "#Resturn common in both set\n",
    "interseaction_set = my_set1.intersection(my_set2) #Result will be the common elements from both\n",
    "print(interseaction_set)  \n",
    "\n",
    "#Here my_set1 will update with intersection elements\n",
    "my_set1.intersection_update(my_set2)\n",
    "print(my_set1)\n",
    "\n",
    "\n",
    "\n"
   ]
  },
  {
   "cell_type": "code",
   "execution_count": null,
   "id": "c27a095c",
   "metadata": {},
   "outputs": [
    {
     "name": "stdout",
     "output_type": "stream",
     "text": [
      "{1, 2, 3}\n",
      "{8, 6, 7}\n",
      "{1, 2, 3}\n"
     ]
    }
   ],
   "source": [
    "my_set1 = {1,2,3,4,5}\n",
    "my_set2 = {4,5,6,7,8}\n",
    "\n",
    "#difference operation\n",
    "\n",
    "#Resturn elements that are in set 1 but not in set 2\n",
    "difference_set1 = my_set1.difference(my_set2) #Which gives an unique elemets and remove common elements from set 1\n",
    "print(difference_set1)\n",
    "\n",
    "difference_set2 = my_set2.difference(my_set1) #Which gives an unique elemets and remove common elements from set 1\n",
    "print(difference_set2)\n",
    "\n",
    "my_set1.difference_update(my_set2)\n",
    "print(my_set1)\n",
    "\n"
   ]
  },
  {
   "cell_type": "code",
   "execution_count": 30,
   "id": "0565e1c4",
   "metadata": {},
   "outputs": [
    {
     "name": "stdout",
     "output_type": "stream",
     "text": [
      "{1, 2, 3, 6, 7, 8}\n"
     ]
    }
   ],
   "source": [
    "#Symmetric difference\n",
    "my_set1 = {1,2,3,4,5}\n",
    "my_set2 = {4,5,6,7,8}\n",
    "\n",
    "#It will give result of one set. Including set1 unique elemensts and set2 unique elements\n",
    "symmetric_difference = my_set1.symmetric_difference(my_set2)\n",
    "print(symmetric_difference)"
   ]
  },
  {
   "cell_type": "markdown",
   "id": "870cde62",
   "metadata": {},
   "source": [
    "# Set method"
   ]
  },
  {
   "cell_type": "code",
   "execution_count": 33,
   "id": "9f2f1eb3",
   "metadata": {},
   "outputs": [
    {
     "name": "stdout",
     "output_type": "stream",
     "text": [
      "False\n",
      "True\n"
     ]
    }
   ],
   "source": [
    "set_1 = {1,2,3,4,5}\n",
    "set_2 = {1,3,4,5}\n",
    "\n",
    "print(set_1.issubset(set_2))\n",
    "print(set_1.issuperset(set_2))"
   ]
  }
 ],
 "metadata": {
  "kernelspec": {
   "display_name": "Python 3",
   "language": "python",
   "name": "python3"
  },
  "language_info": {
   "codemirror_mode": {
    "name": "ipython",
    "version": 3
   },
   "file_extension": ".py",
   "mimetype": "text/x-python",
   "name": "python",
   "nbconvert_exporter": "python",
   "pygments_lexer": "ipython3",
   "version": "3.12.1"
  }
 },
 "nbformat": 4,
 "nbformat_minor": 5
}
