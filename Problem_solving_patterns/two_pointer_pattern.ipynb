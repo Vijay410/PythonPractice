{
 "cells": [
  {
   "cell_type": "markdown",
   "metadata": {},
   "source": [
    "# 🚀 Two Pointers Patterns"
   ]
  },
  {
   "cell_type": "markdown",
   "metadata": {},
   "source": [
    "1.**Two pointer** technique is highly efficiant approch used to solve array and \n",
    "string based problems in **O(N)** complexity.Instead of solving in **O(N²)** complexity. \n",
    "\n",
    "2.This pattern is commonly used when we dealing with sorted array and substrings problmes."
   ]
  },
  {
   "cell_type": "markdown",
   "metadata": {},
   "source": [
    "\n",
    "#### **2️⃣ Types of Two Pointers Approaches**\n",
    "\n",
    "The **Two Pointers** technique can be classified into three main variations based on how the pointers move.\n",
    "\n",
    "---\n",
    "\n",
    "**1️⃣ Opposite Direction (Left & Right Pointers) 🔄**  \n",
    "\n",
    "📌 **Use Cases:** Pair sum problems, removing elements, palindrome checks.  \n",
    "📌 **How It Works:**  \n",
    "   - One pointer starts from the **left**, and the other starts from the **right**.  \n",
    "   - The pointers move toward each other based on conditions.  \n",
    "\n",
    "✅ **Example Problems:**  \n",
    "   - Two Sum (Sorted Array)** 🏹  \n",
    "   - Checking if a string is a palindrome** 🔄  \n",
    "\n",
    "---\n",
    "\n",
    "**2️⃣ Same Direction (Fast & Slow Pointers) ⏩**  \n",
    "\n",
    "📌 **Use Cases:** Removing duplicates, merging arrays, cycle detection.  \n",
    "📌 **How It Works:**  \n",
    "   - One pointer moves **faster** than the other.  \n",
    "\n",
    "✅ **Example Problems:**  \n",
    "   - Removing Duplicates from a Sorted Array** 📊  \n",
    "   - Detecting Cycles in a Linked List (Floyd’s Cycle Detection Algorithm)** 🔁  \n",
    "\n",
    "---\n",
    "\n",
    "**3️⃣ Sliding Window Variation 📏**  \n",
    "\n",
    "📌 **Use Cases:** Finding subarrays and substrings, problems involving **longest substring without repeating characters**.  \n",
    "📌 **How It Works:**  \n",
    "   - Two pointers define a **window** that moves dynamically.  \n",
    "   - The window expands and contracts based on conditions.  \n",
    "\n",
    "✅ **Example Problems:**  \n",
    "   - Longest Substring Without Repeating Characters** 🔠  \n",
    "   - Maximum Sum Subarray of Size K** 📈  \n"
   ]
  }
 ],
 "metadata": {
  "kernelspec": {
   "display_name": "Python 3",
   "language": "python",
   "name": "python3"
  },
  "language_info": {
   "codemirror_mode": {
    "name": "ipython",
    "version": 3
   },
   "file_extension": ".py",
   "mimetype": "text/x-python",
   "name": "python",
   "nbconvert_exporter": "python",
   "pygments_lexer": "ipython3",
   "version": "3.12.1"
  }
 },
 "nbformat": 4,
 "nbformat_minor": 2
}
